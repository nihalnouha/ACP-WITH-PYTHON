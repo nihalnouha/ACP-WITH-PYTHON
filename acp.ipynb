{
 "cells": [
  {
   "cell_type": "code",
   "execution_count": 13,
   "id": "f2639225-9053-4b68-95ee-a0527a6952d9",
   "metadata": {},
   "outputs": [
    {
     "name": "stdout",
     "output_type": "stream",
     "text": [
      "Matrice à analyser :\n",
      "[[1 4]\n",
      " [2 2]\n",
      " [2 1]\n",
      " [3 1]]\n",
      "\n",
      "Matrice à diagonaliser :\n",
      "[[ 0.66666667 -1.        ]\n",
      " [-1.          2.        ]]\n",
      "\n",
      "Éléments principaux de l'analyse :\n",
      "Valeurs propres :  [2.53518376 0.13148291]\n",
      "Vecteurs propres :  [[ 0.47185793 -0.8816746 ]\n",
      " [-0.8816746  -0.47185793]]\n",
      "\n",
      "Représentation des individus dans l'espace principal :\n",
      "[[-2.23520712 -0.06204125]\n",
      " [ 0.          0.        ]\n",
      " [ 0.8816746   0.47185793]\n",
      " [ 1.35353252 -0.40981667]]\n",
      "Individu supplémentaire dans l'espace principal :  [-0.06204125  2.23520712]\n"
     ]
    }
   ],
   "source": [
    "import numpy as np\n",
    "from numpy import dot\n",
    "import scipy.linalg as la\n",
    "\n",
    "def clean_and_sort_eigenvalues(eigenvalues, eigenvectors):  \n",
    "    evs = [(va,ve) for va,ve in zip(eigenvalues,eigenvectors.T) if va.imag == 0]           \n",
    "    evs.sort(key=lambda evv: evv[0], reverse=True)   \n",
    "    sevals = np.array([va.real for va,_ in evs])\n",
    "    sevecs = np.array([ve for _,ve in evs]).T                   \n",
    "    return sevals, sevecs\n",
    "\n",
    "def cca(X,Y):\n",
    "    \n",
    "    N = X.shape[1]\n",
    "    Sxx = 1.0/N * dot(X, X.T)\n",
    "    Sxy = 1.0/N * dot(X, Y.T)\n",
    "    Syy = 1.0/N * dot(Y, Y.T)  \n",
    "    \n",
    "    epsilon = 1e-6\n",
    "    rSyy = Syy + epsilon * np.eye(Syy.shape[0])\n",
    "    rSxx = Sxx + epsilon * np.eye(Sxx.shape[0])   \n",
    "    irSyy = la.inv(rSyy)\n",
    "    \n",
    "    L = dot(Sxy, dot(irSyy, Sxy.T))\n",
    "    lambda2s,A = la.eig(L, rSxx)\n",
    "    lambdas = np.sqrt(lambda2s)  \n",
    "    clambdas, cA = clean_and_sort_eigenvalues(lambdas, A)         \n",
    "    B = dot(irSyy, dot(Sxy.T, dot(cA, np.diag(1.0 / clambdas))))\n",
    "         \n",
    "    return (cA, B, clambdas)\n",
    "\n",
    "# Données d'entrée selon votre exemple\n",
    "X = np.array([[1, 4, -4, 0],\n",
    "              [2, 1, -1, 1],\n",
    "              [3, -1, 1, 1],\n",
    "              [4, 0, 0, -2]])\n",
    "\n",
    "Y = np.array([[1, 2, 3, 4],\n",
    "              [2, 1, -1, 0],\n",
    "              [3, -1, 1, 0]])\n",
    "\n",
    "# Exécution de l'ACPC\n",
    "A, B, lambdas = cca(X, Y)\n",
    "\n",
    "# Analyse des résultats\n",
    "print(\"Valeurs propres:\", lambdas)\n",
    "print(\"Vecteurs propres A:\", A)\n",
    "print(\"Vecteurs propres B:\", B)\n",
    "\n",
    "# Calcul des composantes principales pour les données X\n",
    "# Calcul des composantes principales pour les données X\n",
    "pc1_X = np.dot(A[:, 0], X.T)\n",
    "pc2_X = np.dot(A[:, 1], X.T)\n",
    "\n",
    "\n",
    "\n",
    "\n",
    "# Calcul des coordonnées des variables et des corrélations carrées\n",
    "correlations = np.corrcoef(pc1_X, pc2_X)\n",
    "print(\"Coordonnées des variables:\", pc1_X)\n",
    "print(\"Corrélations carrées:\", correlations)\n",
    "\n",
    "# Interprétation des composantes principales\n",
    "print(\"La première composante principale est liée à ..., la deuxième composante principale est liée à ...\")\n",
    "\n",
    "# Coordonnées de l'individu supplémentaire sur le deuxième axe principal\n",
    "s = np.array([1, -1, 0])\n",
    "pc2_s = np.dot(A[:3, 1], s)\n",
    "print(\"Coordonnées de l'individu supplémentaire sur le deuxième axe principal:\", pc2_s)\n",
    "\n",
    "\n",
    "# Représentation graphique des individus et de s dans le premier plan principal\n",
    "# Vous pouvez utiliser matplotlib pour cela\n",
    "\n",
    "# Synthèse\n",
    "print(\"La synthèse pourrait résumer les principales conclusions tirées de l'analyse, telles que les variables les plus importantes, les relations entre les variables, etc.\")\n"
   ]
  },
  {
   "cell_type": "code",
   "execution_count": 7,
   "id": "0701a3bb-9979-411e-bcae-df0fb0461f81",
   "metadata": {},
   "outputs": [
    {
     "name": "stdout",
     "output_type": "stream",
     "text": [
      "(4, 3)\n"
     ]
    }
   ],
   "source": [
    "print(A.shape)\n"
   ]
  }
 ],
 "metadata": {
  "kernelspec": {
   "display_name": "Python 3 (ipykernel)",
   "language": "python",
   "name": "python3"
  },
  "language_info": {
   "codemirror_mode": {
    "name": "ipython",
    "version": 3
   },
   "file_extension": ".py",
   "mimetype": "text/x-python",
   "name": "python",
   "nbconvert_exporter": "python",
   "pygments_lexer": "ipython3",
   "version": "3.11.7"
  }
 },
 "nbformat": 4,
 "nbformat_minor": 5
}
